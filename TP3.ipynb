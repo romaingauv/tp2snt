{
  "nbformat": 4,
  "nbformat_minor": 0,
  "metadata": {
    "colab": {
      "name": "TP3.ipynb",
      "provenance": [],
      "collapsed_sections": []
    },
    "kernelspec": {
      "name": "python3",
      "display_name": "Python 3"
    }
  },
  "cells": [
    {
      "cell_type": "markdown",
      "metadata": {
        "id": "PZTTUYLCabmv",
        "colab_type": "text"
      },
      "source": [
        "\n",
        "<center><h1>TP3 : Débuter sur Python\n",
        "\n"
      ]
    },
    {
      "cell_type": "markdown",
      "metadata": {
        "id": "56v2QpILdP2p",
        "colab_type": "text"
      },
      "source": [
        "# I. Premiers exemples"
      ]
    },
    {
      "cell_type": "markdown",
      "metadata": {
        "id": "tnY2fmf8g6Nz",
        "colab_type": "text"
      },
      "source": [
        "On considère le programme Python suivant :"
      ]
    },
    {
      "cell_type": "code",
      "metadata": {
        "id": "uqkHw77EgxpE",
        "colab_type": "code",
        "colab": {}
      },
      "source": [
        "a=5\n",
        "b=a+3\n",
        "c=2*b-a"
      ],
      "execution_count": null,
      "outputs": []
    },
    {
      "cell_type": "markdown",
      "metadata": {
        "id": "WJIuVVzfhB8O",
        "colab_type": "text"
      },
      "source": [
        "1. Que vaut la variable `c` à la fin de ce programme ?\n",
        "\n",
        "\n"
      ]
    },
    {
      "cell_type": "markdown",
      "metadata": {
        "id": "4zpx-a1dgLjI",
        "colab_type": "text"
      },
      "source": [
        "> Réponse : (double-cliquer pour modifier)"
      ]
    },
    {
      "cell_type": "markdown",
      "metadata": {
        "id": "DpiBYLYYiKfV",
        "colab_type": "text"
      },
      "source": [
        "2. Pour vérifier ce résultat, lancer le programme suivant en cliquant sur l'icône\n",
        "<img src=\"https://drive.google.com/uc?export=download&id=1iL1M-a-AT-xrFWYMIgQe1VNlArg7kSqv\" width=\"30\"/> qui apparaît quand on le survole :"
      ]
    },
    {
      "cell_type": "code",
      "metadata": {
        "id": "x95HA3OHhmZY",
        "colab_type": "code",
        "colab": {}
      },
      "source": [
        "a=5\n",
        "b=a+3\n",
        "c=2*b-a\n",
        "print(c)"
      ],
      "execution_count": null,
      "outputs": []
    },
    {
      "cell_type": "markdown",
      "metadata": {
        "id": "FIgfhIBjkBpI",
        "colab_type": "text"
      },
      "source": [
        "3. Aviez-vous trouvé le bon résultat ?"
      ]
    },
    {
      "cell_type": "markdown",
      "metadata": {
        "id": "CEI-T8bikg3x",
        "colab_type": "text"
      },
      "source": [
        "> Réponse : (double-cliquer pour modifier)\n",
        "\n"
      ]
    },
    {
      "cell_type": "markdown",
      "metadata": {
        "id": "Bzz3vclkkuuj",
        "colab_type": "text"
      },
      "source": [
        "4. À quoi sert la commande `print(c)` ? "
      ]
    },
    {
      "cell_type": "markdown",
      "metadata": {
        "id": "etRlX6HWk9h-",
        "colab_type": "text"
      },
      "source": [
        "> Réponse : (double-cliquer pour modifier)"
      ]
    },
    {
      "cell_type": "markdown",
      "metadata": {
        "colab_type": "text",
        "id": "MlNDtGgnlhHJ"
      },
      "source": [
        "On considère le programme Python suivant :"
      ]
    },
    {
      "cell_type": "code",
      "metadata": {
        "colab_type": "code",
        "id": "9XLRe0pflhHL",
        "colab": {}
      },
      "source": [
        "x=7\n",
        "x=x+2\n",
        "y=x*(x-2)\n",
        "z=y+x"
      ],
      "execution_count": null,
      "outputs": []
    },
    {
      "cell_type": "markdown",
      "metadata": {
        "colab_type": "text",
        "id": "vnKeJkaSlhHQ"
      },
      "source": [
        "5. Que vaut la variable `z` à la fin de ce programme ?\n",
        "\n",
        "\n"
      ]
    },
    {
      "cell_type": "markdown",
      "metadata": {
        "colab_type": "text",
        "id": "1YAsnaw9mfZ3"
      },
      "source": [
        "> Réponse : \n",
        "\n"
      ]
    },
    {
      "cell_type": "markdown",
      "metadata": {
        "colab_type": "text",
        "id": "3PWHGbz9m0mP"
      },
      "source": [
        "6. Modifier le programme dans le champ ci-dessous afin d'afficher en sortie la valeur de `z` et ainsi vérifier votre résultat :"
      ]
    },
    {
      "cell_type": "code",
      "metadata": {
        "colab_type": "code",
        "id": "ndJApsOom0mR",
        "colab": {}
      },
      "source": [
        "x=7\n",
        "x=x+2\n",
        "y=x*(x-2)\n",
        "z=y+x"
      ],
      "execution_count": null,
      "outputs": []
    },
    {
      "cell_type": "markdown",
      "metadata": {
        "colab_type": "text",
        "id": "mA1vmNWEnBI7"
      },
      "source": [
        "7. Aviez-vous trouvé le bon résultat ?"
      ]
    },
    {
      "cell_type": "markdown",
      "metadata": {
        "colab_type": "text",
        "id": "STmTjAaSnBI9"
      },
      "source": [
        "> Réponse : \n",
        "\n"
      ]
    },
    {
      "cell_type": "markdown",
      "metadata": {
        "colab_type": "text",
        "id": "UytnJOPlnObv"
      },
      "source": [
        "8. L'égalité `x=x+2` vue dans le programme précédent est-elle vraie en général en mathématiques ?"
      ]
    },
    {
      "cell_type": "markdown",
      "metadata": {
        "colab_type": "text",
        "id": "m7SrMMYQnObx"
      },
      "source": [
        "> Réponse : \n",
        "\n"
      ]
    },
    {
      "cell_type": "markdown",
      "metadata": {
        "id": "k5QaRjGJnnc8",
        "colab_type": "text"
      },
      "source": [
        "**En langage Python, le `=` permet de faire l'affectation d'une variable.**\n",
        "\n",
        "**L'affectation d'une variable est l'instruction permettant de \"remplir\" le *casier* correspondant.**"
      ]
    },
    {
      "cell_type": "markdown",
      "metadata": {
        "colab_type": "text",
        "id": "ks1nzZlrqCHi"
      },
      "source": [
        "\n",
        "\n",
        "9. Tester le programme Python suivant :"
      ]
    },
    {
      "cell_type": "code",
      "metadata": {
        "colab_type": "code",
        "id": "HFTYP4b7qCHm",
        "colab": {}
      },
      "source": [
        "x=int(input('Choisis un nombre : '))\n",
        "y=x+2\n",
        "z=y+5\n",
        "print('On obtient',z)"
      ],
      "execution_count": null,
      "outputs": []
    },
    {
      "cell_type": "markdown",
      "metadata": {
        "colab_type": "text",
        "id": "i6zTTlc6qCHt"
      },
      "source": [
        "10. À quoi sert la commande `input` ?\n",
        "\n"
      ]
    },
    {
      "cell_type": "markdown",
      "metadata": {
        "colab_type": "text",
        "id": "R9kz9hcoqCHv"
      },
      "source": [
        "> Réponse : "
      ]
    },
    {
      "cell_type": "markdown",
      "metadata": {
        "colab_type": "text",
        "id": "plemx18NqCHw"
      },
      "source": [
        "11. Dans le champ ci-dessous, créer un programme qui :\n",
        "\n",
        "* Demande un nombre à l'utilisateur\n",
        "* Ajoute 7 à ce nombre\n",
        "* Met au carré le résultat obtenu\n",
        "* Ajoute au résultat le nombre de départ\n",
        "* Divise le résultat par 2\n",
        "* Affiche le résultat obtenu"
      ]
    },
    {
      "cell_type": "code",
      "metadata": {
        "colab_type": "code",
        "id": "T7Id3qx_qCHx",
        "colab": {}
      },
      "source": [
        ""
      ],
      "execution_count": null,
      "outputs": []
    },
    {
      "cell_type": "markdown",
      "metadata": {
        "id": "wevXVvohsbZ3",
        "colab_type": "text"
      },
      "source": [
        "On peut remarquer que le format du résultat affiché à l'issue de ce programme est légèrement différent de celui du programme précédent. Cela s'explique par l'existence en Python de plusieurs types de variables, que nous allons découvrir dans la partie suivante. "
      ]
    },
    {
      "cell_type": "markdown",
      "metadata": {
        "id": "llrB38N9dTl8",
        "colab_type": "text"
      },
      "source": [
        "# II. Les différents types de variables\n",
        "\n"
      ]
    },
    {
      "cell_type": "markdown",
      "metadata": {
        "id": "NvOYpycGdmUB",
        "colab_type": "text"
      },
      "source": [
        "1. Lancer les programmes ci-dessous :"
      ]
    },
    {
      "cell_type": "code",
      "metadata": {
        "id": "gtTn1ujSweM-",
        "colab_type": "code",
        "colab": {}
      },
      "source": [
        "a=2\n",
        "type(a)"
      ],
      "execution_count": null,
      "outputs": []
    },
    {
      "cell_type": "code",
      "metadata": {
        "scrolled": true,
        "trusted": false,
        "colab_type": "code",
        "id": "0W7oYI1rcyYL",
        "colab": {}
      },
      "source": [
        "b=428\n",
        "type(b)"
      ],
      "execution_count": null,
      "outputs": []
    },
    {
      "cell_type": "code",
      "metadata": {
        "colab_type": "code",
        "id": "QOr8Ij79c6z8",
        "colab": {}
      },
      "source": [
        "c=2.5\n",
        "type(c)"
      ],
      "execution_count": null,
      "outputs": []
    },
    {
      "cell_type": "code",
      "metadata": {
        "scrolled": true,
        "trusted": false,
        "colab_type": "code",
        "id": "f4KnrnSuc6z_",
        "colab": {}
      },
      "source": [
        "d=10.456\n",
        "type(d)"
      ],
      "execution_count": null,
      "outputs": []
    },
    {
      "cell_type": "code",
      "metadata": {
        "colab_type": "code",
        "id": "N4PNq2s8dD5y",
        "colab": {}
      },
      "source": [
        "e=15/2\n",
        "type(e)"
      ],
      "execution_count": null,
      "outputs": []
    },
    {
      "cell_type": "code",
      "metadata": {
        "scrolled": true,
        "trusted": false,
        "colab_type": "code",
        "id": "hM2aax6hdD52",
        "colab": {}
      },
      "source": [
        "f='bonjour'\n",
        "type(f)"
      ],
      "execution_count": null,
      "outputs": []
    },
    {
      "cell_type": "code",
      "metadata": {
        "scrolled": true,
        "trusted": false,
        "colab_type": "code",
        "id": "k6rACdXWdP5l",
        "colab": {}
      },
      "source": [
        "g='IloveSNT'\n",
        "type(g)"
      ],
      "execution_count": null,
      "outputs": []
    },
    {
      "cell_type": "code",
      "metadata": {
        "trusted": false,
        "colab_type": "code",
        "id": "CUurqbVcdXD_",
        "colab": {}
      },
      "source": [
        "h=[1,2,3]\n",
        "type(h)"
      ],
      "execution_count": null,
      "outputs": []
    },
    {
      "cell_type": "code",
      "metadata": {
        "trusted": false,
        "colab_type": "code",
        "id": "K0zwzpZAdXUb",
        "colab": {}
      },
      "source": [
        "i=[10,15,20,25,30]\n",
        "type(i)"
      ],
      "execution_count": null,
      "outputs": []
    },
    {
      "cell_type": "markdown",
      "metadata": {
        "colab_type": "text",
        "id": "rsbPcGFpdXUd"
      },
      "source": [
        "2. Quel est le type de chaque variable ? "
      ]
    },
    {
      "cell_type": "markdown",
      "metadata": {
        "colab_type": "text",
        "id": "a79CUX5hd3B_"
      },
      "source": [
        "> Réponse : `a` et `b` sont des ...\n",
        "\n",
        "> `c`, `d` et `e` sont des ...\n",
        "\n",
        "> `f` et `g` sont des ...\n",
        "\n",
        "> `h` et `i` sont des ..."
      ]
    },
    {
      "cell_type": "markdown",
      "metadata": {
        "colab_type": "text",
        "id": "xtwT8nKWcyYW"
      },
      "source": [
        "**Une variable contient une valeur. On peut rencontrer plusieurs types de valeurs :**\n",
        "\n",
        "- **`int` : les nombres entiers** \n",
        "- **`float` : les nombres réels** \n",
        "- **`str` : les chaînes de caractères (*string* en anglais), entre deux apostrophes `'texte'`** \n",
        "- **`list` : les listes d'éléments, entre deux crochets `[ ]`**\n",
        "\n",
        "**Bien entendu, on ne pourra pas réaliser certaines opérations entre deux variables qui ne sont pas du même type, d'où l'importance de bien savoir le type de chaque variable de votre programme.**"
      ]
    },
    {
      "cell_type": "markdown",
      "metadata": {
        "id": "Wf4dyaTmhFa7",
        "colab_type": "text"
      },
      "source": [
        "On considère le programme Python suivant : "
      ]
    },
    {
      "cell_type": "code",
      "metadata": {
        "id": "xNvqMPm3hD4i",
        "colab_type": "code",
        "colab": {}
      },
      "source": [
        "a=int(input())\n",
        "b=float(input())\n",
        "a=a*b\n",
        "a=a+2*b\n",
        "a=a**2\n",
        "print(a)"
      ],
      "execution_count": null,
      "outputs": []
    },
    {
      "cell_type": "markdown",
      "metadata": {
        "id": "Rwu_NKgLc6Sg",
        "colab_type": "text"
      },
      "source": [
        "3. Si l'utilisateur rentre les valeurs 2 pour la variable `a` et 1,5 pour la variable `b`, que va afficher le programme une fois son exécution terminée ?"
      ]
    },
    {
      "cell_type": "markdown",
      "metadata": {
        "id": "rVUxRFM6c6Sg",
        "colab_type": "text"
      },
      "source": [
        "> Réponse :"
      ]
    },
    {
      "cell_type": "markdown",
      "metadata": {
        "id": "H90HHsalc6Sh",
        "colab_type": "text"
      },
      "source": [
        "4. À quoi correspond la double étoile `**` dans le programme ?"
      ]
    },
    {
      "cell_type": "markdown",
      "metadata": {
        "colab_type": "text",
        "id": "SyXrI9LhiY02"
      },
      "source": [
        "> Réponse :"
      ]
    },
    {
      "cell_type": "markdown",
      "metadata": {
        "id": "N_mE5gAbc6Sl",
        "colab_type": "text"
      },
      "source": [
        "On peut remarquer qu'il n'y a pas  de problème pour utiliser les opérations traditionnelles (addition, multiplication, division..) entre des variables de type entier et réel. \n",
        "\n",
        "Nous reviendrons dans un autre TP sur les opérations sur les variables de type `list` ou `str`."
      ]
    },
    {
      "cell_type": "markdown",
      "metadata": {
        "id": "7dkOQit-dbMU",
        "colab_type": "text"
      },
      "source": [
        "# III. Les fonctions"
      ]
    },
    {
      "cell_type": "markdown",
      "metadata": {
        "id": "g6lcQmPkc6Sp",
        "colab_type": "text"
      },
      "source": [
        "On considère la fonction Python suivante :"
      ]
    },
    {
      "cell_type": "code",
      "metadata": {
        "trusted": false,
        "id": "cKjilLQ6c6Sq",
        "colab_type": "code",
        "colab": {}
      },
      "source": [
        "def aire(c):\n",
        "    res=c**2\n",
        "    return res"
      ],
      "execution_count": null,
      "outputs": []
    },
    {
      "cell_type": "markdown",
      "metadata": {
        "id": "fGinUknBc6Ss",
        "colab_type": "text"
      },
      "source": [
        "1. Qu'affichera la commande `print(aire(5))` ?"
      ]
    },
    {
      "cell_type": "markdown",
      "metadata": {
        "id": "RaLN47eUc6Ss",
        "colab_type": "text"
      },
      "source": [
        "> Réponse :"
      ]
    },
    {
      "cell_type": "markdown",
      "metadata": {
        "colab_type": "text",
        "id": "3wiPCLy9kWkh"
      },
      "source": [
        "2. Lancer le programme suivant afin de vérifier votre résultat :"
      ]
    },
    {
      "cell_type": "code",
      "metadata": {
        "trusted": false,
        "colab_type": "code",
        "id": "QUHf-eR1kl4S",
        "colab": {}
      },
      "source": [
        "def aire(c):\n",
        "    res=c**2\n",
        "    return res\n",
        "\n",
        "print(aire(5))"
      ],
      "execution_count": null,
      "outputs": []
    },
    {
      "cell_type": "markdown",
      "metadata": {
        "id": "xfF9TzA8mkXX",
        "colab_type": "text"
      },
      "source": [
        "3. Que permet de calculer cette fonction ?"
      ]
    },
    {
      "cell_type": "markdown",
      "metadata": {
        "id": "hFyHKe81mouG",
        "colab_type": "text"
      },
      "source": [
        "> Réponse :"
      ]
    },
    {
      "cell_type": "markdown",
      "metadata": {
        "colab_type": "text",
        "id": "Fva8lZrsmUFv"
      },
      "source": [
        "3. Compléter la fonction suivante afin qu'elle renvoie le périmètre d'un carré de côté `c` donné en paramètre :"
      ]
    },
    {
      "cell_type": "code",
      "metadata": {
        "trusted": false,
        "colab_type": "code",
        "id": "e1hqTF2pmUFx",
        "colab": {}
      },
      "source": [
        "def perimetre(...):\n",
        "  ...\n"
      ],
      "execution_count": null,
      "outputs": []
    },
    {
      "cell_type": "markdown",
      "metadata": {
        "colab_type": "text",
        "id": "HAz55Ib-m7f2"
      },
      "source": [
        "4. Ajouter l'instruction `print(perimetre(10))` à la suite de votre fonction afin de la tester."
      ]
    },
    {
      "cell_type": "markdown",
      "metadata": {
        "id": "UvDrcN6CrJ6k",
        "colab_type": "text"
      },
      "source": [
        "On considère la fonction Python suivante :"
      ]
    },
    {
      "cell_type": "code",
      "metadata": {
        "trusted": false,
        "colab_type": "code",
        "id": "WXYgK2pfq8NM",
        "colab": {}
      },
      "source": [
        "def fonction(a,b):\n",
        "    p=a+b\n",
        "    r=2*a*b\n",
        "    s=p-r\n",
        "    return s\n",
        "\n",
        "print(fonction(2,3))"
      ],
      "execution_count": null,
      "outputs": []
    },
    {
      "cell_type": "markdown",
      "metadata": {
        "colab_type": "text",
        "id": "F8KTCAufq8NQ"
      },
      "source": [
        "5. Sans l'éxecuter, qu'affichera la commande `print(fonction(3,2)` ?"
      ]
    },
    {
      "cell_type": "markdown",
      "metadata": {
        "colab_type": "text",
        "id": "3675HsILq8NQ"
      },
      "source": [
        "> Réponse :"
      ]
    },
    {
      "cell_type": "markdown",
      "metadata": {
        "colab_type": "text",
        "id": "Gw42TJCrsI_E"
      },
      "source": [
        "6. Sans l'éxecuter, qu'affichera la commande `print(fonction(5,8)` ?"
      ]
    },
    {
      "cell_type": "markdown",
      "metadata": {
        "colab_type": "text",
        "id": "LeNUW3ngsI_F"
      },
      "source": [
        "> Réponse :"
      ]
    },
    {
      "cell_type": "markdown",
      "metadata": {
        "colab_type": "text",
        "id": "mkEYljHIsa1f"
      },
      "source": [
        "7. Utiliser le programme suivant afin de vérifier vos résultats :"
      ]
    },
    {
      "cell_type": "code",
      "metadata": {
        "trusted": false,
        "colab_type": "code",
        "id": "riT7nv9Isa1h",
        "colab": {}
      },
      "source": [
        "def fonction(a,b):\n",
        "    p=a+b\n",
        "    r=2*a*b\n",
        "    s=p-r\n",
        "    return s\n",
        "\n",
        "print(fonction(...))"
      ],
      "execution_count": null,
      "outputs": []
    },
    {
      "cell_type": "markdown",
      "metadata": {
        "id": "doRnUCuxc6St",
        "colab_type": "text"
      },
      "source": [
        "**Une *fonction* est une succession d'instructions regroupées dans un bloc que l'on désigne par un nom. En général, une fonction a une entrée (des informations qu'on lui fournit appelées *arguments* ou *paramètres*), exécute un travail sur ces arguments et renvoie des informations en sortie, comme des nombres et/ou des messages.**\n",
        "\n",
        "**On définit une telle fonction en Python par :**"
      ]
    },
    {
      "cell_type": "code",
      "metadata": {
        "id": "hD-O9uhwl8pL",
        "colab_type": "code",
        "colab": {}
      },
      "source": [
        "def nom_de_la_fonction(argument1,argument2,...):\n",
        "  instructions éventuelles \n",
        "  ...\n",
        "  return résultat1,résultat2,... \n"
      ],
      "execution_count": null,
      "outputs": []
    },
    {
      "cell_type": "markdown",
      "metadata": {
        "id": "3CqhBgY4l6x8",
        "colab_type": "text"
      },
      "source": [
        "**Utiliser des fonctions permet d'effectuer des opérations répétitives sans devoir saisir les instructions à chaque fois. Cela permet également de découper un programme en parties plus simples et de rendre le programme plus lisible.**"
      ]
    },
    {
      "cell_type": "markdown",
      "metadata": {
        "id": "P-QJPK36c6Sw",
        "colab_type": "text"
      },
      "source": [
        "Par exemple, dans le programme ci-dessous, la fonction `div_eucl` prend **deux arguments** et renvoit **deux résultats**."
      ]
    },
    {
      "cell_type": "code",
      "metadata": {
        "trusted": false,
        "id": "v5MzH4Zcc6Su",
        "colab_type": "code",
        "colab": {}
      },
      "source": [
        "def div_eucl(a,b):\n",
        "    q=int(a/b)\n",
        "    r=a%b\n",
        "    return q,r"
      ],
      "execution_count": null,
      "outputs": []
    },
    {
      "cell_type": "markdown",
      "metadata": {
        "id": "O-zEVKSnc6Sw",
        "colab_type": "text"
      },
      "source": [
        "8. Quelles seront les résultats retournés par l'instruction `div_eucl(51,4)` ?"
      ]
    },
    {
      "cell_type": "markdown",
      "metadata": {
        "id": "giLxjLLMnuD9",
        "colab_type": "text"
      },
      "source": [
        "> Réponse :"
      ]
    },
    {
      "cell_type": "markdown",
      "metadata": {
        "id": "Tp84mZcXnx-7",
        "colab_type": "text"
      },
      "source": [
        "9. Tester l'instruction dans le champ contenant la fonction pour tester votre résultat. "
      ]
    },
    {
      "cell_type": "markdown",
      "metadata": {
        "id": "1EyvBX-_c6Sx",
        "colab_type": "text"
      },
      "source": [
        "10. Dans l'encadré ci-dessous, écrire une fonction `puissance` qui prend deux arguments `x` et `n` et qui retourne la valeur de `x` à la puissance `n`."
      ]
    },
    {
      "cell_type": "code",
      "metadata": {
        "trusted": false,
        "id": "qr-_CqLkc6Sx",
        "colab_type": "code",
        "colab": {}
      },
      "source": [
        ""
      ],
      "execution_count": null,
      "outputs": []
    },
    {
      "cell_type": "markdown",
      "metadata": {
        "id": "MtwQZgnXdgW2",
        "colab_type": "text"
      },
      "source": [
        "# IV. Le module math"
      ]
    },
    {
      "cell_type": "markdown",
      "metadata": {
        "id": "wrh-Qs0dc6S0",
        "colab_type": "text"
      },
      "source": [
        "1. Lancer le programme ci-dessous :"
      ]
    },
    {
      "cell_type": "code",
      "metadata": {
        "trusted": false,
        "id": "vdOSyYXoc6S0",
        "colab_type": "code",
        "colab": {}
      },
      "source": [
        "a=sqrt(4)\n",
        "print(a)"
      ],
      "execution_count": null,
      "outputs": []
    },
    {
      "cell_type": "markdown",
      "metadata": {
        "id": "DUoS_vJNc6S2",
        "colab_type": "text"
      },
      "source": [
        "On remarque que le programme ne fonctionne pas. Certains outils de Python sont rangés dans des modules (ou bibliothèques). Quand on veut utiliser un tel outil, on doit l'importer depuis le module. On peut importer l'outil seul ou l'ensemble des outils du module. En rajoutant, `from math import sqrt` au début de notre programme précédent comme ci-dessous, le programme fonctionne. "
      ]
    },
    {
      "cell_type": "code",
      "metadata": {
        "trusted": false,
        "id": "q8PMO0tZc6S3",
        "colab_type": "code",
        "colab": {}
      },
      "source": [
        "from math import sqrt\n",
        "\n",
        "a=sqrt(4)\n",
        "print(a)"
      ],
      "execution_count": null,
      "outputs": []
    },
    {
      "cell_type": "markdown",
      "metadata": {
        "id": "bKVjOS7Hc6S5",
        "colab_type": "text"
      },
      "source": [
        "2. À quoi correspond l'outil `sqrt` ? (Si besoin, chercher sur Internet la signification de `sqrt`)"
      ]
    },
    {
      "cell_type": "markdown",
      "metadata": {
        "id": "75d_6za6c6S6",
        "colab_type": "text"
      },
      "source": [
        "> Réponse :"
      ]
    },
    {
      "cell_type": "markdown",
      "metadata": {
        "id": "P5dwN_f_c6S6",
        "colab_type": "text"
      },
      "source": [
        "Si notre programme comporte plusieurs outils issus du module math, au lieu de les importer un par un, on peut directement tous les importer en tapant `from math import *`. Par exemple :\n"
      ]
    },
    {
      "cell_type": "code",
      "metadata": {
        "trusted": false,
        "id": "y7hOE3c1c6S6",
        "colab_type": "code",
        "colab": {}
      },
      "source": [
        "from math import *\n",
        "\n",
        "def vol_piscine_hexagonale(cote,hauteur):\n",
        "    vol=hauteur*3*sqrt(3)*cote/2\n",
        "    return vol\n",
        "\n",
        "def vol_piscine_ronde(rayon,hauteur):\n",
        "    vol=hauteur*pi*rayon**2"
      ],
      "execution_count": null,
      "outputs": []
    },
    {
      "cell_type": "markdown",
      "metadata": {
        "id": "qykpXFQwuEeX",
        "colab_type": "text"
      },
      "source": [
        "3. Dans le programme ci-dessus, quel autre outil que `sqrt` a nécessité l'importation du module `math` ?"
      ]
    },
    {
      "cell_type": "markdown",
      "metadata": {
        "id": "sZJj3cPduOJJ",
        "colab_type": "text"
      },
      "source": [
        "> Réponse :"
      ]
    },
    {
      "cell_type": "markdown",
      "metadata": {
        "id": "pJorzOMgc6S8",
        "colab_type": "text"
      },
      "source": [
        "Dans le module `math`, toutes les fonctions mathématiques sont présentes (cosinus, sinus, arcsinus, exponentielle, pi, racine carrée...). Cependant, il existe d'autres modules comme par exemple `numpy` pour fabriquer des tableaux ou encore `matplot` pour faire des graphiques ou des dessins. \n",
        "\n",
        "4. Dans le champ ci-dessous, écrire une fonction qui prend comme paramètre les longueurs des plus petits côtés d'un triangle rectangle et qui retourne la longueur de l'hypoténuse."
      ]
    },
    {
      "cell_type": "code",
      "metadata": {
        "trusted": false,
        "id": "zHDV0XPic6S8",
        "colab_type": "code",
        "colab": {}
      },
      "source": [
        ""
      ],
      "execution_count": null,
      "outputs": []
    },
    {
      "cell_type": "markdown",
      "metadata": {
        "id": "MCWDPKPydiIK",
        "colab_type": "text"
      },
      "source": [
        "# V. Les instructions conditionnelles *Si ... Alors ... Sinon*"
      ]
    },
    {
      "cell_type": "markdown",
      "metadata": {
        "id": "-YkMMnqpKtky",
        "colab_type": "text"
      },
      "source": [
        "1. Qu'affiche le programme suivant ? Expliquer ce résultat."
      ]
    },
    {
      "cell_type": "code",
      "metadata": {
        "id": "kuOG1L32KVEu",
        "colab_type": "code",
        "colab": {}
      },
      "source": [
        "x=int(input('Entrer un nombre'))\n",
        "if x<=50 :\n",
        "  print('Trop petit')\n",
        "elif x>=100 :\n",
        "  print('Trop grand')\n",
        "else :\n",
        "  print('Convient')"
      ],
      "execution_count": null,
      "outputs": []
    },
    {
      "cell_type": "markdown",
      "metadata": {
        "id": "qautM_j_Kyv2",
        "colab_type": "text"
      },
      "source": [
        "> Réponse :"
      ]
    },
    {
      "cell_type": "markdown",
      "metadata": {
        "colab_type": "text",
        "id": "xP6i6uSdMT4k"
      },
      "source": [
        "2. Compléter le programme suivant :"
      ]
    },
    {
      "cell_type": "code",
      "metadata": {
        "colab_type": "code",
        "id": "60wUMPv1MT4m",
        "colab": {}
      },
      "source": [
        "age=int(input('Entrez votre âge'))\n",
        "if ... :\n",
        "  print('Vous êtes majeur')\n",
        "else :\n",
        "  print('Vous êtes mineur')"
      ],
      "execution_count": null,
      "outputs": []
    },
    {
      "cell_type": "markdown",
      "metadata": {
        "colab_type": "text",
        "id": "oL78Rrn2M_EG"
      },
      "source": [
        "3. Créer un programme qui prend en paramètres deux nombres `a` et `b` et qui affiche si leur somme est plus grande ou plus petite que 100 :"
      ]
    },
    {
      "cell_type": "code",
      "metadata": {
        "colab_type": "code",
        "id": "J1WdPfTXM_EH",
        "colab": {}
      },
      "source": [
        ""
      ],
      "execution_count": null,
      "outputs": []
    },
    {
      "cell_type": "markdown",
      "metadata": {
        "id": "PEsXyPesNiWO",
        "colab_type": "text"
      },
      "source": [
        "**Dans un algorithme, il peut être utile d'éxecuter un bloc d'instructions uniquement lorsque certaines conditions sont satisfaites. On utilise alors la strucure conditionnelle *Si ... Alors ... Sinon*, traduite en langage Python par les commandes `if ... :`, `else :`**\n",
        "\n",
        "**Lorsqu'on les structures conditionnelles, on peut comparer des valeurs en utilisant les symboles suivants :**\n",
        "\n",
        "<img src=\"https://drive.google.com/uc?export=download&id=1NST2U81oAkEofo1GScVeUI2nytEHgoQH\"/>  \n",
        "\n"
      ]
    },
    {
      "cell_type": "markdown",
      "metadata": {
        "id": "HvPH190kRXAW",
        "colab_type": "text"
      },
      "source": [
        "Attention, il faut utiliser `==` et non pas `=` lorsqu'on souhaite vérifier une égalité (le `=` étant utilisé pour l'affectation des variables)."
      ]
    },
    {
      "cell_type": "markdown",
      "metadata": {
        "id": "7aKWIFu1c6S-",
        "colab_type": "text"
      },
      "source": [
        "4. Lancer le programme ci-dessous :  "
      ]
    },
    {
      "cell_type": "code",
      "metadata": {
        "trusted": false,
        "id": "qaF7dcnsc6S_",
        "colab_type": "code",
        "colab": {}
      },
      "source": [
        "#Programme jeu de hasard\n",
        "\n",
        "from random import *\n",
        "\n",
        "x=randint(0,9)\n",
        "\n",
        "rep=int(input('Choisissez un chiffre (entre 0 et 9)'))\n",
        "if rep==x :\n",
        "    print('Vous avez gagné !!!')\n",
        "else :\n",
        "    print('Vous avez perdu...')\n",
        "    \n",
        "print('Le chiffre tiré est',x)"
      ],
      "execution_count": null,
      "outputs": []
    },
    {
      "cell_type": "markdown",
      "metadata": {
        "id": "dCBqpr6dvrbC",
        "colab_type": "text"
      },
      "source": [
        "5. À quoi sert la commande `randint(0,9)` ?"
      ]
    },
    {
      "cell_type": "markdown",
      "metadata": {
        "id": "QQwinOsYSNF_",
        "colab_type": "text"
      },
      "source": [
        "> Réponse :"
      ]
    },
    {
      "cell_type": "markdown",
      "metadata": {
        "id": "a1DchJByc6TB",
        "colab_type": "text"
      },
      "source": [
        "*Nous essaierons d'améliorer ce programme de jeu dans la suite de ce TP*"
      ]
    },
    {
      "cell_type": "markdown",
      "metadata": {
        "id": "VbMwHJx7c6TB",
        "colab_type": "text"
      },
      "source": [
        "6. Quelle est l'utilité de la fonction `pyth` du programme suivant ?"
      ]
    },
    {
      "cell_type": "code",
      "metadata": {
        "trusted": false,
        "id": "R2E9uq_Zc6TB",
        "colab_type": "code",
        "colab": {}
      },
      "source": [
        "from math import sqrt\n",
        "\n",
        "def pyth(cote1,cote2):\n",
        "    rep=input(\"Vous désirez calculer la longueur de l'hypoténuse ?\")\n",
        "    if rep=='oui':\n",
        "        longueur=sqrt(cote1**2+cote2**2)\n",
        "    else :\n",
        "        if cote1<cote2:\n",
        "            longueur=sqrt(cote2**2-cote1**2)\n",
        "        else :\n",
        "            longueur=sqrt(cote1**2-cote2**2)\n",
        "    return longueur"
      ],
      "execution_count": null,
      "outputs": []
    },
    {
      "cell_type": "markdown",
      "metadata": {
        "id": "fALQ8OvETTcC",
        "colab_type": "text"
      },
      "source": [
        "> Réponse :"
      ]
    },
    {
      "cell_type": "markdown",
      "metadata": {
        "id": "npAfZw6oTVj0",
        "colab_type": "text"
      },
      "source": [
        "7. Sans la lancer, qu'affichera la commande `print(pyth(10,8))` si on répond `non` ?"
      ]
    },
    {
      "cell_type": "markdown",
      "metadata": {
        "id": "kZn8xbQNTlG3",
        "colab_type": "text"
      },
      "source": [
        "> Réponse :"
      ]
    },
    {
      "cell_type": "markdown",
      "metadata": {
        "id": "XIwkxnOnTnF_",
        "colab_type": "text"
      },
      "source": [
        "8. Lancer cette commande à la suite du programme ci-dessus pour vérifier votre réponse."
      ]
    },
    {
      "cell_type": "markdown",
      "metadata": {
        "id": "kAeoP3R1c6TE",
        "colab_type": "text"
      },
      "source": [
        "**Il peut y avoir plusieurs conditions à vérifier pour réaliser un bloc et on peut avoir plus de deux blocs conditionnels comme dans l'exemple ci-dessous :**"
      ]
    },
    {
      "cell_type": "code",
      "metadata": {
        "trusted": false,
        "id": "1QHAcq__c6TE",
        "colab_type": "code",
        "colab": {}
      },
      "source": [
        "from random import random\n",
        "\n",
        "x=randint(0,9)\n",
        "y=randint(0,9)\n",
        "rep=int(input('Choisissez un chiffre (entre 0 et 9)'))\n",
        "\n",
        "if x==rep and y<=rep :\n",
        "    print('GAGNE !!!')\n",
        "if x==rep or y>rep :\n",
        "    print('GAGNE !!!')\n",
        "else :\n",
        "    print('PERDU...')"
      ],
      "execution_count": null,
      "outputs": []
    },
    {
      "cell_type": "markdown",
      "metadata": {
        "id": "cuOT4cWZc6TF",
        "colab_type": "text"
      },
      "source": [
        "9. Tester le programme ci-dessus jusqu'à gagner. Préciser le nombre d'essai :"
      ]
    },
    {
      "cell_type": "markdown",
      "metadata": {
        "id": "fr64nlHNc6TF",
        "colab_type": "text"
      },
      "source": [
        "> Réponse :"
      ]
    },
    {
      "cell_type": "markdown",
      "metadata": {
        "id": "XeICHB3Bc6TG",
        "colab_type": "text"
      },
      "source": [
        "10. On reprend le programme *jeu de hasard* vu précédemment. Rajouter dans le bloc `else` une structure conditionnelle qui permet au joueur de savoir, lorsqu'il a perdu, si le nombre qu'il avait choisi était plus grand ou plus petit que le nombre qu'il fallait trouver :"
      ]
    },
    {
      "cell_type": "code",
      "metadata": {
        "trusted": false,
        "colab_type": "code",
        "id": "AhPBrMlCUwTj",
        "colab": {}
      },
      "source": [
        "#Programme jeu de hasard\n",
        "\n",
        "from random import *\n",
        "\n",
        "x=randint(0,9)\n",
        "\n",
        "rep=int(input('Choisissez un chiffre (entre 0 et 9)'))\n",
        "if rep==x :\n",
        "    print('Vous avez gagné !!!')\n",
        "else :\n",
        "    print('Vous avez perdu...')\n",
        "    \n",
        "print('Le chiffre tiré est',x)"
      ],
      "execution_count": null,
      "outputs": []
    },
    {
      "cell_type": "markdown",
      "metadata": {
        "id": "KnEu5hGjdwOn",
        "colab_type": "text"
      },
      "source": [
        "# VI. Les boucles *for*"
      ]
    },
    {
      "cell_type": "markdown",
      "metadata": {
        "id": "I6wmc63gc6TK",
        "colab_type": "text"
      },
      "source": [
        "1. Lancer le programme ci-dessous. Expliquer comment le résultat a été obtenu."
      ]
    },
    {
      "cell_type": "code",
      "metadata": {
        "trusted": false,
        "id": "Ot3VfEzhc6TI",
        "colab_type": "code",
        "colab": {}
      },
      "source": [
        "x=0\n",
        "for i in range(1,11):\n",
        "    x=x+4\n",
        "    print(x)"
      ],
      "execution_count": null,
      "outputs": []
    },
    {
      "cell_type": "markdown",
      "metadata": {
        "id": "OBNccJxSc6TK",
        "colab_type": "text"
      },
      "source": [
        "> Réponse :"
      ]
    },
    {
      "cell_type": "markdown",
      "metadata": {
        "id": "VC8bcBU3c6TK",
        "colab_type": "text"
      },
      "source": [
        "**Pour répéter des instructions un nombre de fois connu, on utilise une boucle `for` (ou boucle *Pour*).**\n",
        "\n",
        "**`range(1,N+1)` est la liste des entiers consécutifs de 1 à N inclus. Ainsi, `range(1,11)` est la liste des entiers de 1 à 10 inclus.**"
      ]
    },
    {
      "cell_type": "markdown",
      "metadata": {
        "id": "dicJs45VXYIg",
        "colab_type": "text"
      },
      "source": [
        "2. Sans le lancer, déterminer ce que va afficher ce programme :"
      ]
    },
    {
      "cell_type": "code",
      "metadata": {
        "id": "p9dGuEbMXiAY",
        "colab_type": "code",
        "colab": {}
      },
      "source": [
        "x=1\n",
        "for i in range(1,5):\n",
        "  x=x*3\n",
        "  print(x)"
      ],
      "execution_count": null,
      "outputs": []
    },
    {
      "cell_type": "markdown",
      "metadata": {
        "id": "cAdBL4GGXsSW",
        "colab_type": "text"
      },
      "source": [
        "> Réponse : "
      ]
    },
    {
      "cell_type": "markdown",
      "metadata": {
        "id": "DIWUvFfHXu4B",
        "colab_type": "text"
      },
      "source": [
        "3. Lancer le programme pour vérifier le résultat."
      ]
    },
    {
      "cell_type": "markdown",
      "metadata": {
        "colab_type": "text",
        "id": "osqjOcHsX1cG"
      },
      "source": [
        "4. Sans le lancer, déterminer ce que va afficher ce programme :"
      ]
    },
    {
      "cell_type": "code",
      "metadata": {
        "colab_type": "code",
        "id": "LaQo7XfrX1cH",
        "colab": {}
      },
      "source": [
        "x=2\n",
        "for i in range(1,6):\n",
        "  x=x*i\n",
        "  print(x)"
      ],
      "execution_count": null,
      "outputs": []
    },
    {
      "cell_type": "markdown",
      "metadata": {
        "colab_type": "text",
        "id": "62PjU39JX1cK"
      },
      "source": [
        "> Réponse : "
      ]
    },
    {
      "cell_type": "markdown",
      "metadata": {
        "colab_type": "text",
        "id": "RDitC7mVX1cK"
      },
      "source": [
        "5. Lancer le programme pour vérifier le résultat."
      ]
    },
    {
      "cell_type": "markdown",
      "metadata": {
        "id": "j9GlikLvYKRk",
        "colab_type": "text"
      },
      "source": [
        "6. Une fourmilière compte 200 fourmis. Chaque année, cette population augmente de 5\\%. On souhaite étudier son évolution sur 10 ans. Pour cela, compléter le programme suivant afin qu'il affiche le nombre de fourmis dans 10 ans :"
      ]
    },
    {
      "cell_type": "code",
      "metadata": {
        "id": "pQ-neRiYYec6",
        "colab_type": "code",
        "colab": {}
      },
      "source": [
        "pop=...\n",
        "for i in ... :\n",
        "  augmentation=...\n",
        "  pop=pop+...\n",
        "print(pop)"
      ],
      "execution_count": null,
      "outputs": []
    },
    {
      "cell_type": "markdown",
      "metadata": {
        "id": "0BOUfiQzPzvJ",
        "colab_type": "text"
      },
      "source": [
        "7. Lancer les programmes suivants :"
      ]
    },
    {
      "cell_type": "code",
      "metadata": {
        "id": "xrldQAguP7pm",
        "colab_type": "code",
        "colab": {}
      },
      "source": [
        "a=3\n",
        "for i in range(1,5):\n",
        "  a=a+4\n",
        "  a=a+5\n",
        "print(a)"
      ],
      "execution_count": null,
      "outputs": []
    },
    {
      "cell_type": "code",
      "metadata": {
        "id": "wZ59T7MtZUDy",
        "colab_type": "code",
        "colab": {}
      },
      "source": [
        "a=3\n",
        "for i in range(1,5):\n",
        "  a=a+4\n",
        "a=a+5\n",
        "print(a)"
      ],
      "execution_count": null,
      "outputs": []
    },
    {
      "cell_type": "markdown",
      "metadata": {
        "id": "iDDgObVdZUqG",
        "colab_type": "text"
      },
      "source": [
        "Comment expliquer la différence entre les résultats :"
      ]
    },
    {
      "cell_type": "markdown",
      "metadata": {
        "id": "fHlBxjWGZbZ-",
        "colab_type": "text"
      },
      "source": [
        "> Réponse :"
      ]
    },
    {
      "cell_type": "markdown",
      "metadata": {
        "id": "H8j3N_GuP8L0",
        "colab_type": "text"
      },
      "source": [
        "\n",
        "**En Python, *l'indentation automatique* des instructions est très importante. L'annulation de l'incrémentation marque la sortie de la structure.**"
      ]
    },
    {
      "cell_type": "markdown",
      "metadata": {
        "id": "hzXm_7uDXBpt",
        "colab_type": "text"
      },
      "source": [
        "8. Si nous reprenions le jeu de hasard de la partie précédente et que nous le rendions plus intéressant :  recopier le programme de la question 10 de la partie précédente et créer une boucle qui permettrait à l'utilisateur de tenter 5 fois sa chance sans avoir à relancer le programme."
      ]
    },
    {
      "cell_type": "code",
      "metadata": {
        "trusted": false,
        "id": "DdnzOOcUc6TL",
        "colab_type": "code",
        "colab": {}
      },
      "source": [
        ""
      ],
      "execution_count": null,
      "outputs": []
    },
    {
      "cell_type": "markdown",
      "metadata": {
        "id": "rxbj9jfgd2Ia",
        "colab_type": "text"
      },
      "source": [
        "# VII. Les boucles *while*"
      ]
    },
    {
      "cell_type": "markdown",
      "metadata": {
        "colab_type": "text",
        "id": "36YIGfF1cXaf"
      },
      "source": [
        "1. Lancer le programme ci-dessous. Expliquer comment le résultat a été obtenu."
      ]
    },
    {
      "cell_type": "code",
      "metadata": {
        "trusted": false,
        "colab_type": "code",
        "id": "eJ3S7XWscXag",
        "colab": {}
      },
      "source": [
        "x=100\n",
        "n=0\n",
        "while x>50:\n",
        "    x=x-6\n",
        "    n=n+1\n",
        "print(n)"
      ],
      "execution_count": null,
      "outputs": []
    },
    {
      "cell_type": "markdown",
      "metadata": {
        "colab_type": "text",
        "id": "5f_PY7gecXak"
      },
      "source": [
        "> Réponse :"
      ]
    },
    {
      "cell_type": "markdown",
      "metadata": {
        "colab_type": "text",
        "id": "_RKIpBzJdAMK"
      },
      "source": [
        "**Lorsque le nombre de répétitions n'est à priori pas connu à l'avance, mais que l'on connait une condition d'arrêt, on utilise une boucle `while` (ou boucle *Tant que*).**"
      ]
    },
    {
      "cell_type": "markdown",
      "metadata": {
        "colab_type": "text",
        "id": "mYg9hB3HdAML"
      },
      "source": [
        "2. Sans le lancer, déterminer ce que va afficher ce programme :"
      ]
    },
    {
      "cell_type": "code",
      "metadata": {
        "colab_type": "code",
        "id": "REbGvEhAdAMM",
        "colab": {}
      },
      "source": [
        "a=1\n",
        "while a<30:\n",
        "  a=a*4\n",
        "print(a)"
      ],
      "execution_count": null,
      "outputs": []
    },
    {
      "cell_type": "markdown",
      "metadata": {
        "colab_type": "text",
        "id": "W8OQ-mKxdAMO"
      },
      "source": [
        "> Réponse : "
      ]
    },
    {
      "cell_type": "markdown",
      "metadata": {
        "colab_type": "text",
        "id": "wa0NAr4KdAMP"
      },
      "source": [
        "3. Lancer le programme pour vérifier le résultat."
      ]
    },
    {
      "cell_type": "markdown",
      "metadata": {
        "colab_type": "text",
        "id": "4sqI3AOqdgwh"
      },
      "source": [
        "4. Sans le lancer, déterminer ce que va afficher ce programme :"
      ]
    },
    {
      "cell_type": "code",
      "metadata": {
        "colab_type": "code",
        "id": "ZYOMS3cVdgwi",
        "colab": {}
      },
      "source": [
        "n=0\n",
        "while 2**n<1000:\n",
        "  print(2**n)\n",
        "  n=n+1"
      ],
      "execution_count": null,
      "outputs": []
    },
    {
      "cell_type": "markdown",
      "metadata": {
        "colab_type": "text",
        "id": "JXZf9L0jdgwl"
      },
      "source": [
        "> Réponse : "
      ]
    },
    {
      "cell_type": "markdown",
      "metadata": {
        "colab_type": "text",
        "id": "ZtwfYrG3dgwl"
      },
      "source": [
        "5. Lancer le programme pour vérifier le résultat."
      ]
    },
    {
      "cell_type": "markdown",
      "metadata": {
        "id": "SyzXUu65eA7K",
        "colab_type": "text"
      },
      "source": [
        "**Ici, la variable `n` sert de *compteur* : on l'initialise à 0 au début et on l'incrémente à chaque passage dans la boucle.**"
      ]
    },
    {
      "cell_type": "markdown",
      "metadata": {
        "id": "8g-qn_BVeU5u",
        "colab_type": "text"
      },
      "source": [
        "6. En reprenant le programme vu à la question 6. de la partie précédente, créer un programme qui affiche le nombre d'années nécessaires pour que la fourmilière dépasse 1000 fourmis."
      ]
    },
    {
      "cell_type": "code",
      "metadata": {
        "id": "jDhtxzniesmT",
        "colab_type": "code",
        "colab": {}
      },
      "source": [
        ""
      ],
      "execution_count": null,
      "outputs": []
    },
    {
      "cell_type": "markdown",
      "metadata": {
        "colab_type": "text",
        "id": "bxiUzMcPfTNX"
      },
      "source": [
        "7. Reprendre le jeu de hasard de la partie précédente : modifier le programme afin de permettre au joueur de faire autant d'essais que nécessaire pour gagner et d'afficher ce nombre. "
      ]
    },
    {
      "cell_type": "code",
      "metadata": {
        "trusted": false,
        "colab_type": "code",
        "id": "wQCalH29fTNX",
        "colab": {}
      },
      "source": [
        ""
      ],
      "execution_count": null,
      "outputs": []
    },
    {
      "cell_type": "markdown",
      "metadata": {
        "id": "1vtOIozWzUW2",
        "colab_type": "text"
      },
      "source": [
        "# VII. Si tu as de l'avance..."
      ]
    },
    {
      "cell_type": "markdown",
      "metadata": {
        "id": "vK4uG8hxhIx7",
        "colab_type": "text"
      },
      "source": [
        "1. Que permet de faire la fonction suivante ?"
      ]
    },
    {
      "cell_type": "code",
      "metadata": {
        "id": "p0RqbCfVgIkJ",
        "colab_type": "code",
        "colab": {}
      },
      "source": [
        "def carre():\n",
        "  for i in range(1,6):\n",
        "    for j in range(1,6):\n",
        "       print('*', end=' ')\n",
        "    print()\n",
        "\n",
        "carre()"
      ],
      "execution_count": null,
      "outputs": []
    },
    {
      "cell_type": "markdown",
      "metadata": {
        "id": "kFlRSFkZhZx9",
        "colab_type": "text"
      },
      "source": [
        "> Réponse :"
      ]
    },
    {
      "cell_type": "markdown",
      "metadata": {
        "id": "VS4gqy0FiIGG",
        "colab_type": "text"
      },
      "source": [
        "2. Créer une fonction `carre(n)` qui dessine de la même manière un carré de taille `n`."
      ]
    },
    {
      "cell_type": "code",
      "metadata": {
        "id": "AdB7afkOimPq",
        "colab_type": "code",
        "colab": {}
      },
      "source": [
        ""
      ],
      "execution_count": null,
      "outputs": []
    },
    {
      "cell_type": "markdown",
      "metadata": {
        "id": "0rqz0MOIheKy",
        "colab_type": "text"
      },
      "source": [
        "2. Créer une fonction `rectangle(largeur,longueur)`qui dessine un rectangle pour lequel les dimensions sont données en paramètres.\n",
        "\n",
        "Par exemple, `rectangle(5,8)` doit afficher :\n",
        "\n",
        "<img src=\"https://drive.google.com/uc?export=download&id=1psco6tEAYXcCGmMBrfuNp9TzMQB1Tnnn\" width=\"130\"/>"
      ]
    },
    {
      "cell_type": "code",
      "metadata": {
        "id": "FAY-AoCLhX4S",
        "colab_type": "code",
        "colab": {}
      },
      "source": [
        ""
      ],
      "execution_count": null,
      "outputs": []
    },
    {
      "cell_type": "markdown",
      "metadata": {
        "colab_type": "text",
        "id": "ZF5wsVytqsr3"
      },
      "source": [
        "3. Créer une fonction `diagonale(n)`, avec laquelle `diagonale(6)` doit afficher :\n",
        "\n",
        "<img src=\"https://drive.google.com/uc?export=download&id=1-_kBLRoUuLFVYGkxA5VfXWNyT1zSfYRJ\" width=\"130\"/>"
      ]
    },
    {
      "cell_type": "code",
      "metadata": {
        "colab_type": "code",
        "id": "cHIZRqAgqsr4",
        "colab": {}
      },
      "source": [
        ""
      ],
      "execution_count": null,
      "outputs": []
    },
    {
      "cell_type": "markdown",
      "metadata": {
        "colab_type": "text",
        "id": "O7yzKv0Fqtvn"
      },
      "source": [
        "4. Créer une fonction `triangle(n)`, avec laquelle `triangle(6)` doit afficher :\n",
        "\n",
        "<img src=\"https://drive.google.com/uc?export=download&id=10Aq2RqfJ-8CECc4bsUy4mR_3XPeYlck5\" width=\"130\"/>"
      ]
    },
    {
      "cell_type": "code",
      "metadata": {
        "colab_type": "code",
        "id": "7FF248L9qtvo",
        "colab": {}
      },
      "source": [
        ""
      ],
      "execution_count": null,
      "outputs": []
    },
    {
      "cell_type": "markdown",
      "metadata": {
        "colab_type": "text",
        "id": "XhGpFZ20qzdo"
      },
      "source": [
        "5. Créer une fonction `triangle2(n)`, avec laquelle `triangle2(6)` doit afficher :\n",
        "\n",
        "<img src=\"https://drive.google.com/uc?export=download&id=1NLpHhSWjIF06bXR0RaKTTB2AjjewtNSk\" width=\"130\"/>"
      ]
    },
    {
      "cell_type": "code",
      "metadata": {
        "id": "geCMt5aQq6cp",
        "colab_type": "code",
        "colab": {}
      },
      "source": [
        ""
      ],
      "execution_count": null,
      "outputs": []
    },
    {
      "cell_type": "markdown",
      "metadata": {
        "colab_type": "text",
        "id": "g8F0myPpqzzc"
      },
      "source": [
        "5. Créer une fonction `triangle3(n)`, avec laquelle `triangle3(6)` doit afficher :\n",
        "\n",
        "<img src=\"https://drive.google.com/uc?export=download&id=1g3MSl0xeeSMUfLtddHY6QKszemNJACyN\" width=\"130\"/>"
      ]
    },
    {
      "cell_type": "code",
      "metadata": {
        "id": "jEbKX8OZq7a9",
        "colab_type": "code",
        "colab": {}
      },
      "source": [
        ""
      ],
      "execution_count": null,
      "outputs": []
    },
    {
      "cell_type": "markdown",
      "metadata": {
        "colab_type": "text",
        "id": "VnUARFGXq0BW"
      },
      "source": [
        "6. Créer une fonction `triangle4(n)`, avec laquelle `triangle4(6)` doit afficher :\n",
        "\n",
        "<img src=\"https://drive.google.com/uc?export=download&id=1FIqiTM3MlmPGb2lBNtuBK_nKxXBf2svu\" width=\"130\"/>"
      ]
    },
    {
      "cell_type": "code",
      "metadata": {
        "id": "4hNxFamvq8at",
        "colab_type": "code",
        "colab": {}
      },
      "source": [
        ""
      ],
      "execution_count": null,
      "outputs": []
    },
    {
      "cell_type": "markdown",
      "metadata": {
        "colab_type": "text",
        "id": "xele7IKtq0Pr"
      },
      "source": [
        "7. Créer une fonction `sapin(n)`, avec laquelle `sapin(6)` doit afficher :\n",
        "\n",
        "<img src=\"https://drive.google.com/uc?export=download&id=1eQwLlNfmarLA-xDxYWafwC_kbq0lchXY\" width=\"130\"/>"
      ]
    },
    {
      "cell_type": "code",
      "metadata": {
        "id": "jM-I-BKUq9V8",
        "colab_type": "code",
        "colab": {}
      },
      "source": [
        ""
      ],
      "execution_count": null,
      "outputs": []
    },
    {
      "cell_type": "markdown",
      "metadata": {
        "colab_type": "text",
        "id": "PMh-hFnYq0eu"
      },
      "source": [
        "8. Créer une fonction `sapin2(n)` qui crée des sapins plus élégants, avec laquelle `sapin2(6)` doit afficher :\n",
        "\n",
        "<img src=\"https://drive.google.com/uc?export=download&id=162ZRmiVamoKWABQqQxUvPf1TshmukD7M\" width=\"250\"/>"
      ]
    },
    {
      "cell_type": "code",
      "metadata": {
        "id": "GLV0nZoJq-Rf",
        "colab_type": "code",
        "colab": {}
      },
      "source": [
        ""
      ],
      "execution_count": null,
      "outputs": []
    }
  ]
}